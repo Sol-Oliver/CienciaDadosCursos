{
 "cells": [
  {
   "cell_type": "markdown",
   "metadata": {},
   "source": [
    " # Árvores de decisão"
   ]
  },
  {
   "cell_type": "code",
   "execution_count": 1,
   "metadata": {},
   "outputs": [],
   "source": [
    "import pandas as pd\n",
    "from sklearn.model_selection import train_test_split\n",
    "from sklearn.preprocessing import LabelEncoder\n",
    "from sklearn.metrics import confusion_matrix, accuracy_score\n",
    "from sklearn.tree import DecisionTreeClassifier\n",
    "import graphviz\n",
    "from sklearn.tree import export_graphviz"
   ]
  },
  {
   "cell_type": "code",
   "execution_count": 2,
   "metadata": {},
   "outputs": [],
   "source": [
    "credito = pd.read_csv('Credit.csv')\n",
    "previsores = credito.iloc[:,0:20].values\n",
    "classe = credito.iloc[:,20].values"
   ]
  },
  {
   "cell_type": "code",
   "execution_count": 3,
   "metadata": {},
   "outputs": [],
   "source": [
    "labelencoder = LabelEncoder()\n",
    "previsores[:,0] = labelencoder.fit_transform(previsores[:,0])\n",
    "previsores[:,2] = labelencoder.fit_transform(previsores[:,2])\n",
    "previsores[:, 3] = labelencoder.fit_transform(previsores[:, 3])\n",
    "previsores[:, 5] = labelencoder.fit_transform(previsores[:, 5])\n",
    "previsores[:, 6] = labelencoder.fit_transform(previsores[:, 6])\n",
    "previsores[:, 8] = labelencoder.fit_transform(previsores[:, 8])\n",
    "previsores[:, 9] = labelencoder.fit_transform(previsores[:, 9])\n",
    "previsores[:, 11] = labelencoder.fit_transform(previsores[:, 11])\n",
    "previsores[:, 13] = labelencoder.fit_transform(previsores[:, 13])\n",
    "previsores[:, 14] = labelencoder.fit_transform(previsores[:, 14])\n",
    "previsores[:, 16] = labelencoder.fit_transform(previsores[:, 16])\n",
    "previsores[:, 18] = labelencoder.fit_transform(previsores[:, 18])\n",
    "previsores[:, 19] = labelencoder.fit_transform(previsores[:, 19])"
   ]
  },
  {
   "cell_type": "code",
   "execution_count": 9,
   "metadata": {},
   "outputs": [
    {
     "data": {
      "text/plain": [
       "(array([[1, 24, 1, ..., 2, 1, 1],\n",
       "        [0, 36, 3, ..., 1, 1, 1],\n",
       "        [2, 15, 1, ..., 2, 1, 1],\n",
       "        ...,\n",
       "        [0, 9, 3, ..., 1, 0, 1],\n",
       "        [1, 18, 1, ..., 1, 0, 1],\n",
       "        [1, 36, 2, ..., 2, 1, 1]], dtype=object),\n",
       " array([[2, 36, 3, ..., 1, 1, 1],\n",
       "        [0, 9, 3, ..., 2, 0, 0],\n",
       "        [0, 18, 3, ..., 1, 1, 1],\n",
       "        ...,\n",
       "        [0, 24, 1, ..., 1, 0, 1],\n",
       "        [1, 27, 4, ..., 1, 1, 1],\n",
       "        [1, 12, 3, ..., 1, 0, 1]], dtype=object),\n",
       " array(['bad', 'bad', 'good', 'good', 'good', 'good', 'bad', 'bad', 'bad',\n",
       "        'good', 'bad', 'bad', 'good', 'good', 'good', 'good', 'good',\n",
       "        'good', 'good', 'good', 'good', 'good', 'good', 'bad', 'good',\n",
       "        'bad', 'good', 'bad', 'good', 'good', 'good', 'good', 'good',\n",
       "        'good', 'good', 'good', 'bad', 'good', 'bad', 'good', 'bad',\n",
       "        'good', 'bad', 'good', 'good', 'bad', 'bad', 'good', 'bad', 'bad',\n",
       "        'good', 'good', 'good', 'good', 'good', 'good', 'good', 'bad',\n",
       "        'bad', 'good', 'good', 'good', 'bad', 'bad', 'good', 'good', 'bad',\n",
       "        'good', 'bad', 'bad', 'good', 'bad', 'good', 'good', 'good', 'bad',\n",
       "        'bad', 'good', 'good', 'good', 'bad', 'good', 'good', 'good',\n",
       "        'bad', 'bad', 'bad', 'good', 'good', 'bad', 'good', 'good', 'good',\n",
       "        'good', 'bad', 'good', 'good', 'bad', 'good', 'bad', 'good',\n",
       "        'good', 'bad', 'good', 'good', 'bad', 'bad', 'good', 'bad', 'bad',\n",
       "        'good', 'good', 'good', 'good', 'good', 'good', 'good', 'good',\n",
       "        'good', 'bad', 'good', 'good', 'good', 'good', 'good', 'good',\n",
       "        'good', 'bad', 'good', 'bad', 'good', 'good', 'good', 'good',\n",
       "        'good', 'good', 'bad', 'good', 'bad', 'bad', 'good', 'good',\n",
       "        'good', 'good', 'good', 'good', 'good', 'good', 'bad', 'bad',\n",
       "        'good', 'bad', 'good', 'bad', 'good', 'good', 'good', 'good',\n",
       "        'good', 'bad', 'bad', 'bad', 'good', 'good', 'good', 'good',\n",
       "        'good', 'good', 'good', 'bad', 'bad', 'good', 'good', 'good',\n",
       "        'good', 'good', 'good', 'bad', 'good', 'good', 'good', 'good',\n",
       "        'good', 'good', 'bad', 'good', 'bad', 'good', 'good', 'bad',\n",
       "        'good', 'good', 'bad', 'good', 'good', 'bad', 'bad', 'good',\n",
       "        'good', 'bad', 'bad', 'good', 'good', 'good', 'bad', 'good',\n",
       "        'good', 'good', 'bad', 'good', 'good', 'good', 'good', 'good',\n",
       "        'good', 'good', 'good', 'good', 'good', 'good', 'good', 'bad',\n",
       "        'bad', 'good', 'good', 'good', 'good', 'good', 'good', 'good',\n",
       "        'good', 'bad', 'good', 'good', 'good', 'good', 'bad', 'bad',\n",
       "        'good', 'good', 'good', 'good', 'good', 'good', 'good', 'bad',\n",
       "        'good', 'bad', 'good', 'good', 'good', 'good', 'good', 'bad',\n",
       "        'good', 'good', 'good', 'bad', 'good', 'good', 'good', 'good',\n",
       "        'good', 'good', 'bad', 'good', 'bad', 'bad', 'bad', 'bad', 'good',\n",
       "        'bad', 'good', 'bad', 'good', 'good', 'good', 'good', 'bad', 'bad',\n",
       "        'good', 'good', 'bad', 'good', 'good', 'good', 'good', 'bad',\n",
       "        'good', 'bad', 'bad', 'good', 'bad', 'good', 'good', 'bad', 'good',\n",
       "        'good', 'good', 'good', 'bad', 'good', 'bad', 'bad', 'bad', 'bad',\n",
       "        'good', 'bad', 'good', 'bad', 'good', 'good', 'bad', 'good',\n",
       "        'good', 'good', 'good', 'bad', 'good', 'good', 'bad', 'bad',\n",
       "        'good', 'good', 'good', 'good', 'good', 'good', 'good', 'bad',\n",
       "        'good', 'good', 'good', 'good', 'good', 'bad', 'good', 'good',\n",
       "        'good', 'good', 'good', 'good', 'good', 'bad', 'good', 'good',\n",
       "        'bad', 'bad', 'bad', 'bad', 'good', 'good', 'good', 'good', 'good',\n",
       "        'good', 'bad', 'good', 'good', 'bad', 'bad', 'good', 'good',\n",
       "        'good', 'good', 'bad', 'good', 'good', 'bad', 'good', 'bad',\n",
       "        'good', 'good', 'good', 'good', 'bad', 'good', 'good', 'good',\n",
       "        'good', 'good', 'bad', 'good', 'bad', 'good', 'bad', 'bad', 'bad',\n",
       "        'bad', 'good', 'good', 'bad', 'bad', 'good', 'good', 'good',\n",
       "        'good', 'good', 'good', 'good', 'bad', 'bad', 'good', 'good',\n",
       "        'good', 'bad', 'good', 'good', 'good', 'good', 'good', 'good',\n",
       "        'good', 'good', 'good', 'good', 'bad', 'good', 'good', 'good',\n",
       "        'good', 'good', 'good', 'good', 'bad', 'good', 'good', 'bad',\n",
       "        'good', 'good', 'bad', 'bad', 'bad', 'bad', 'good', 'good', 'good',\n",
       "        'good', 'good', 'good', 'good', 'good', 'good', 'good', 'bad',\n",
       "        'good', 'good', 'good', 'bad', 'good', 'bad', 'good', 'good',\n",
       "        'good', 'good', 'bad', 'good', 'bad', 'good', 'good', 'bad',\n",
       "        'good', 'bad', 'good', 'bad', 'good', 'good', 'good', 'good',\n",
       "        'bad', 'good', 'good', 'bad', 'bad', 'good', 'bad', 'good', 'good',\n",
       "        'bad', 'bad', 'good', 'good', 'good', 'good', 'good', 'good',\n",
       "        'good', 'good', 'good', 'good', 'bad', 'bad', 'good', 'bad',\n",
       "        'good', 'good', 'good', 'good', 'good', 'good', 'good', 'bad',\n",
       "        'good', 'bad', 'good', 'bad', 'good', 'good', 'good', 'good',\n",
       "        'good', 'good', 'good', 'good', 'good', 'bad', 'good', 'good',\n",
       "        'good', 'good', 'bad', 'good', 'good', 'good', 'good', 'good',\n",
       "        'good', 'bad', 'good', 'bad', 'bad', 'good', 'good', 'good',\n",
       "        'good', 'good', 'bad', 'bad', 'good', 'bad', 'bad', 'good', 'bad',\n",
       "        'good', 'good', 'good', 'good', 'bad', 'good', 'good', 'good',\n",
       "        'good', 'good', 'good', 'good', 'bad', 'bad', 'good', 'good',\n",
       "        'good', 'good', 'good', 'good', 'good', 'good', 'good', 'bad',\n",
       "        'good', 'good', 'good', 'good', 'bad', 'good', 'bad', 'good',\n",
       "        'bad', 'good', 'good', 'good', 'good', 'good', 'bad', 'bad',\n",
       "        'good', 'good', 'bad', 'good', 'good', 'good', 'bad', 'good',\n",
       "        'good', 'good', 'bad', 'good', 'bad', 'bad', 'bad', 'good', 'bad',\n",
       "        'bad', 'good', 'good', 'good', 'bad', 'good', 'bad', 'good', 'bad',\n",
       "        'bad', 'good', 'good', 'good', 'good', 'good', 'good', 'good',\n",
       "        'bad', 'good', 'bad', 'bad', 'good', 'good', 'good', 'good',\n",
       "        'good', 'good', 'bad', 'bad', 'good', 'good', 'good', 'good',\n",
       "        'good', 'good', 'bad', 'good', 'good', 'good', 'good', 'good',\n",
       "        'good', 'bad', 'good', 'good', 'good', 'bad', 'bad', 'good', 'bad',\n",
       "        'good', 'bad', 'good', 'good', 'good', 'good', 'good', 'good',\n",
       "        'bad', 'good', 'good', 'bad', 'good', 'bad', 'good', 'good', 'bad',\n",
       "        'good', 'good', 'good', 'good', 'good', 'good', 'bad', 'bad',\n",
       "        'bad', 'bad', 'bad', 'good', 'good', 'good', 'good', 'good',\n",
       "        'good', 'bad', 'good', 'good', 'good', 'bad', 'good', 'good',\n",
       "        'bad', 'bad', 'bad', 'bad', 'bad', 'bad', 'good', 'bad', 'good'],\n",
       "       dtype=object),\n",
       " array(['good', 'good', 'good', 'good', 'good', 'good', 'good', 'good',\n",
       "        'good', 'bad', 'bad', 'bad', 'good', 'good', 'bad', 'good', 'good',\n",
       "        'bad', 'good', 'good', 'good', 'good', 'good', 'good', 'good',\n",
       "        'bad', 'good', 'good', 'good', 'bad', 'good', 'good', 'bad', 'bad',\n",
       "        'good', 'bad', 'good', 'good', 'bad', 'good', 'bad', 'good',\n",
       "        'good', 'good', 'good', 'bad', 'bad', 'good', 'good', 'good',\n",
       "        'bad', 'bad', 'good', 'good', 'bad', 'good', 'good', 'good',\n",
       "        'good', 'good', 'bad', 'good', 'good', 'good', 'good', 'good',\n",
       "        'good', 'bad', 'bad', 'good', 'good', 'good', 'good', 'good',\n",
       "        'good', 'bad', 'good', 'bad', 'bad', 'good', 'good', 'good',\n",
       "        'good', 'good', 'good', 'good', 'bad', 'good', 'good', 'good',\n",
       "        'good', 'good', 'good', 'good', 'good', 'bad', 'good', 'good',\n",
       "        'good', 'good', 'good', 'good', 'good', 'good', 'good', 'good',\n",
       "        'good', 'bad', 'bad', 'good', 'good', 'bad', 'bad', 'good', 'good',\n",
       "        'good', 'bad', 'good', 'good', 'good', 'bad', 'good', 'good',\n",
       "        'bad', 'good', 'good', 'good', 'good', 'good', 'good', 'bad',\n",
       "        'good', 'bad', 'good', 'good', 'bad', 'good', 'good', 'good',\n",
       "        'good', 'good', 'good', 'good', 'bad', 'bad', 'bad', 'good',\n",
       "        'good', 'bad', 'good', 'good', 'good', 'good', 'bad', 'good',\n",
       "        'good', 'bad', 'good', 'good', 'good', 'bad', 'good', 'good',\n",
       "        'bad', 'bad', 'bad', 'bad', 'good', 'bad', 'good', 'good', 'good',\n",
       "        'good', 'bad', 'good', 'bad', 'bad', 'bad', 'good', 'good', 'good',\n",
       "        'good', 'good', 'bad', 'good', 'bad', 'good', 'good', 'good',\n",
       "        'good', 'bad', 'bad', 'bad', 'good', 'good', 'good', 'bad', 'good',\n",
       "        'bad', 'good', 'good', 'bad', 'bad', 'bad', 'good', 'good', 'bad',\n",
       "        'good', 'good', 'good', 'bad', 'good', 'bad', 'good', 'good',\n",
       "        'good', 'good', 'good', 'good', 'bad', 'bad', 'good', 'good',\n",
       "        'good', 'good', 'good', 'good', 'bad', 'bad', 'good', 'good',\n",
       "        'bad', 'bad', 'good', 'bad', 'good', 'good', 'good', 'good', 'bad',\n",
       "        'bad', 'good', 'good', 'bad', 'good', 'good', 'good', 'good',\n",
       "        'good', 'good', 'good', 'good', 'good', 'good', 'good', 'good',\n",
       "        'good', 'good', 'good', 'good', 'good', 'good', 'good', 'good',\n",
       "        'good', 'bad', 'good', 'bad', 'good', 'bad', 'bad', 'bad', 'good',\n",
       "        'good', 'good', 'good', 'good', 'good', 'bad', 'bad', 'good',\n",
       "        'good', 'good', 'good', 'bad', 'good', 'good', 'good', 'good',\n",
       "        'good', 'good', 'good', 'good', 'good', 'bad', 'good', 'bad',\n",
       "        'good', 'bad', 'bad'], dtype=object))"
      ]
     },
     "execution_count": 9,
     "metadata": {},
     "output_type": "execute_result"
    }
   ],
   "source": [
    "X_treinamento, X_teste, y_treinamento, y_teste = train_test_split(previsores,\n",
    "                                                                  classe,\n",
    "                                                                  test_size = 0.3,\n",
    "                                                                  random_state = 0)\n",
    "X_treinamento, X_teste, y_treinamento, y_teste"
   ]
  },
  {
   "cell_type": "code",
   "execution_count": 10,
   "metadata": {},
   "outputs": [
    {
     "data": {
      "text/plain": [
       "DecisionTreeClassifier(class_weight=None, criterion='gini', max_depth=None,\n",
       "            max_features=None, max_leaf_nodes=None,\n",
       "            min_impurity_decrease=0.0, min_impurity_split=None,\n",
       "            min_samples_leaf=1, min_samples_split=2,\n",
       "            min_weight_fraction_leaf=0.0, presort=False, random_state=None,\n",
       "            splitter='best')"
      ]
     },
     "execution_count": 10,
     "metadata": {},
     "output_type": "execute_result"
    }
   ],
   "source": [
    "arvore = DecisionTreeClassifier()\n",
    "arvore.fit(X_treinamento, y_treinamento)\n",
    "arvore"
   ]
  },
  {
   "cell_type": "code",
   "execution_count": 6,
   "metadata": {},
   "outputs": [],
   "source": [
    "export_graphviz(arvore, out_file = 'tree.dot')"
   ]
  },
  {
   "cell_type": "code",
   "execution_count": 13,
   "metadata": {},
   "outputs": [],
   "source": [
    "previsoes = arvore.predict(X_teste)\n",
    "confusao = confusion_matrix(y_teste, previsoes)\n",
    "taxa_acerto = accuracy_score(y_teste, previsoes)\n",
    "taxa_erro = 1 - taxa_acerto"
   ]
  }
 ],
 "metadata": {
  "kernelspec": {
   "display_name": "Python 3",
   "language": "python",
   "name": "python3"
  },
  "language_info": {
   "codemirror_mode": {
    "name": "ipython",
    "version": 3
   },
   "file_extension": ".py",
   "mimetype": "text/x-python",
   "name": "python",
   "nbconvert_exporter": "python",
   "pygments_lexer": "ipython3",
   "version": "3.7.3"
  }
 },
 "nbformat": 4,
 "nbformat_minor": 2
}
