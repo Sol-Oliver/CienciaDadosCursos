{
 "cells": [
  {
   "cell_type": "code",
   "execution_count": 1,
   "metadata": {},
   "outputs": [],
   "source": [
    "import pandas as pd\n",
    "from sklearn.model_selection import train_test_split\n",
    "from sklearn.preprocessing import LabelEncoder\n",
    "from sklearn.metrics import confusion_matrix, accuracy_score\n",
    "from sklearn.svm import SVC\n",
    "from sklearn.ensemble import ExtraTreesClassifier"
   ]
  },
  {
   "cell_type": "code",
   "execution_count": 2,
   "metadata": {},
   "outputs": [],
   "source": [
    "credito = pd.read_csv('Credit.csv')\n",
    "previsores = credito.iloc[:,0:20].values\n",
    "classe = credito.iloc[:,20].values"
   ]
  },
  {
   "cell_type": "code",
   "execution_count": 3,
   "metadata": {},
   "outputs": [],
   "source": [
    "labelencoder = LabelEncoder()\n",
    "previsores[:,0] = labelencoder.fit_transform(previsores[:,0])\n",
    "previsores[:,2] = labelencoder.fit_transform(previsores[:,2])\n",
    "previsores[:, 3] = labelencoder.fit_transform(previsores[:, 3])\n",
    "previsores[:, 5] = labelencoder.fit_transform(previsores[:, 5])\n",
    "previsores[:, 6] = labelencoder.fit_transform(previsores[:, 6])\n",
    "previsores[:, 8] = labelencoder.fit_transform(previsores[:, 8])\n",
    "previsores[:, 9] = labelencoder.fit_transform(previsores[:, 9])\n",
    "previsores[:, 11] = labelencoder.fit_transform(previsores[:, 11])\n",
    "previsores[:, 13] = labelencoder.fit_transform(previsores[:, 13])\n",
    "previsores[:, 14] = labelencoder.fit_transform(previsores[:, 14])\n",
    "previsores[:, 16] = labelencoder.fit_transform(previsores[:, 16])\n",
    "previsores[:, 18] = labelencoder.fit_transform(previsores[:, 18])\n",
    "previsores[:, 19] = labelencoder.fit_transform(previsores[:, 19])"
   ]
  },
  {
   "cell_type": "code",
   "execution_count": 4,
   "metadata": {},
   "outputs": [],
   "source": [
    "X_treinamento, X_teste, y_treinamento, y_teste = train_test_split(previsores,\n",
    "                                                                  classe,\n",
    "                                                                  test_size = 0.3,\n",
    "                                                                  random_state = 0)"
   ]
  },
  {
   "cell_type": "code",
   "execution_count": 5,
   "metadata": {},
   "outputs": [
    {
     "name": "stderr",
     "output_type": "stream",
     "text": [
      "C:\\Users\\Solange.NOTE-SOLANGE\\Anaconda3\\lib\\site-packages\\sklearn\\svm\\base.py:196: FutureWarning: The default value of gamma will change from 'auto' to 'scale' in version 0.22 to account better for unscaled features. Set gamma explicitly to 'auto' or 'scale' to avoid this warning.\n",
      "  \"avoid this warning.\", FutureWarning)\n"
     ]
    }
   ],
   "source": [
    "svm = SVC()\n",
    "svm.fit(X_treinamento, y_treinamento)\n",
    "previsoes = svm.predict(X_teste)\n",
    "taxa_acerto = accuracy_score(y_teste, previsoes)"
   ]
  },
  {
   "cell_type": "code",
   "execution_count": 6,
   "metadata": {},
   "outputs": [
    {
     "name": "stderr",
     "output_type": "stream",
     "text": [
      "C:\\Users\\Solange.NOTE-SOLANGE\\Anaconda3\\lib\\site-packages\\sklearn\\ensemble\\forest.py:246: FutureWarning: The default value of n_estimators will change from 10 in version 0.20 to 100 in 0.22.\n",
      "  \"10 in version 0.20 to 100 in 0.22.\", FutureWarning)\n"
     ]
    }
   ],
   "source": [
    "forest = ExtraTreesClassifier()\n",
    "forest.fit(X_treinamento, y_treinamento)\n",
    "importancias = forest.feature_importances_"
   ]
  },
  {
   "cell_type": "code",
   "execution_count": 7,
   "metadata": {},
   "outputs": [],
   "source": [
    "X_treinamento2 = X_treinamento[:,[0,1,2,3]]\n",
    "X_teste2 = X_teste[:,[0,1,2,3]]"
   ]
  },
  {
   "cell_type": "code",
   "execution_count": 8,
   "metadata": {},
   "outputs": [
    {
     "name": "stderr",
     "output_type": "stream",
     "text": [
      "C:\\Users\\Solange.NOTE-SOLANGE\\Anaconda3\\lib\\site-packages\\sklearn\\svm\\base.py:196: FutureWarning: The default value of gamma will change from 'auto' to 'scale' in version 0.22 to account better for unscaled features. Set gamma explicitly to 'auto' or 'scale' to avoid this warning.\n",
      "  \"avoid this warning.\", FutureWarning)\n"
     ]
    }
   ],
   "source": [
    "svm2 = SVC()\n",
    "svm2.fit(X_treinamento2, y_treinamento)\n",
    "previsoes2 = svm2.predict(X_teste2)\n",
    "taxa_acerto = accuracy_score(y_teste, previsoes2)"
   ]
  }
 ],
 "metadata": {
  "kernelspec": {
   "display_name": "Python 3",
   "language": "python",
   "name": "python3"
  },
  "language_info": {
   "codemirror_mode": {
    "name": "ipython",
    "version": 3
   },
   "file_extension": ".py",
   "mimetype": "text/x-python",
   "name": "python",
   "nbconvert_exporter": "python",
   "pygments_lexer": "ipython3",
   "version": "3.7.3"
  }
 },
 "nbformat": 4,
 "nbformat_minor": 2
}
