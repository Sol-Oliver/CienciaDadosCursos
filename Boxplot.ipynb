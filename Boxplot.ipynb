{
 "cells": [
  {
   "cell_type": "code",
   "execution_count": 1,
   "metadata": {},
   "outputs": [],
   "source": [
    "import pandas as pd\n",
    "import matplotlib.pyplot as plt"
   ]
  },
  {
   "cell_type": "code",
   "execution_count": 2,
   "metadata": {},
   "outputs": [],
   "source": [
    "base = pd.read_csv('trees.csv')"
   ]
  },
  {
   "cell_type": "code",
   "execution_count": 3,
   "metadata": {},
   "outputs": [
    {
     "data": {
      "text/plain": [
       "Text(0.5, 0, 'Volume')"
      ]
     },
     "execution_count": 3,
     "metadata": {},
     "output_type": "execute_result"
    },
    {
     "data": {
      "image/png": "[encoded data removed]",
      "text/plain": [
       "<Figure size 432x288 with 1 Axes>"
      ]
     },
     "metadata": {
      "needs_background": "light"
     },
     "output_type": "display_data"
    }
   ],
   "source": [
    "plt.boxplot(base.Volume, vert = False, showfliers = False, notch = True,\n",
    "            patch_artist = True)\n",
    "plt.title('Árvores')\n",
    "plt.xlabel('Volume')"
   ]
  },
  {
   "cell_type": "code",
   "execution_count": 4,
   "metadata": {},
   "outputs": [
    {
     "data": {
      "text/plain": [
       "{'whiskers': [<matplotlib.lines.Line2D at 0x249ce41ac88>,\n",
       "  <matplotlib.lines.Line2D at 0x249ce41afd0>,\n",
       "  <matplotlib.lines.Line2D at 0x249ce439438>,\n",
       "  <matplotlib.lines.Line2D at 0x249ce439780>,\n",
       "  <matplotlib.lines.Line2D at 0x249ce442b70>,\n",
       "  <matplotlib.lines.Line2D at 0x249ce442eb8>,\n",
       "  <matplotlib.lines.Line2D at 0x249ce4582e8>,\n",
       "  <matplotlib.lines.Line2D at 0x249ce458630>,\n",
       "  <matplotlib.lines.Line2D at 0x249ce461a20>,\n",
       "  <matplotlib.lines.Line2D at 0x249ce461d68>,\n",
       "  <matplotlib.lines.Line2D at 0x249ce469ef0>,\n",
       "  <matplotlib.lines.Line2D at 0x249ce4754e0>,\n",
       "  <matplotlib.lines.Line2D at 0x249ce47f8d0>,\n",
       "  <matplotlib.lines.Line2D at 0x249ce47fc18>,\n",
       "  <matplotlib.lines.Line2D at 0x249ce488da0>,\n",
       "  <matplotlib.lines.Line2D at 0x249ce495390>,\n",
       "  <matplotlib.lines.Line2D at 0x249ce49e780>,\n",
       "  <matplotlib.lines.Line2D at 0x249ce49eac8>,\n",
       "  <matplotlib.lines.Line2D at 0x249ce4a9eb8>,\n",
       "  <matplotlib.lines.Line2D at 0x249ce4a9f98>,\n",
       "  <matplotlib.lines.Line2D at 0x249ce4bd630>,\n",
       "  <matplotlib.lines.Line2D at 0x249ce4bd978>,\n",
       "  <matplotlib.lines.Line2D at 0x249ce4c9d68>,\n",
       "  <matplotlib.lines.Line2D at 0x249ce4c9e48>,\n",
       "  <matplotlib.lines.Line2D at 0x249ce4db4e0>,\n",
       "  <matplotlib.lines.Line2D at 0x249ce4db828>,\n",
       "  <matplotlib.lines.Line2D at 0x249ce4e5c18>,\n",
       "  <matplotlib.lines.Line2D at 0x249ce4e5f60>,\n",
       "  <matplotlib.lines.Line2D at 0x249ce4fb390>,\n",
       "  <matplotlib.lines.Line2D at 0x249ce4fb6d8>,\n",
       "  <matplotlib.lines.Line2D at 0x249ce505978>,\n",
       "  <matplotlib.lines.Line2D at 0x249ce505c88>,\n",
       "  <matplotlib.lines.Line2D at 0x249ce50ff28>,\n",
       "  <matplotlib.lines.Line2D at 0x249ce50fef0>,\n",
       "  <matplotlib.lines.Line2D at 0x249ce4a5e80>,\n",
       "  <matplotlib.lines.Line2D at 0x249ce526828>,\n",
       "  <matplotlib.lines.Line2D at 0x249ce52fac8>,\n",
       "  <matplotlib.lines.Line2D at 0x249ce52fdd8>,\n",
       "  <matplotlib.lines.Line2D at 0x249ce539e48>,\n",
       "  <matplotlib.lines.Line2D at 0x249ce539d30>,\n",
       "  <matplotlib.lines.Line2D at 0x249ce544fd0>,\n",
       "  <matplotlib.lines.Line2D at 0x249ce551978>,\n",
       "  <matplotlib.lines.Line2D at 0x249ce55ac18>,\n",
       "  <matplotlib.lines.Line2D at 0x249ce55af28>,\n",
       "  <matplotlib.lines.Line2D at 0x249ce567f98>,\n",
       "  <matplotlib.lines.Line2D at 0x249ce567e80>,\n",
       "  <matplotlib.lines.Line2D at 0x249ce5701d0>,\n",
       "  <matplotlib.lines.Line2D at 0x249ce57aac8>,\n",
       "  <matplotlib.lines.Line2D at 0x249ce587d68>,\n",
       "  <matplotlib.lines.Line2D at 0x249ce587e48>,\n",
       "  <matplotlib.lines.Line2D at 0x249ce590cc0>,\n",
       "  <matplotlib.lines.Line2D at 0x249ce59b668>,\n",
       "  <matplotlib.lines.Line2D at 0x249ce59b048>,\n",
       "  <matplotlib.lines.Line2D at 0x249ce5a7c18>,\n",
       "  <matplotlib.lines.Line2D at 0x249ce5b1eb8>,\n",
       "  <matplotlib.lines.Line2D at 0x249ce5b1f98>,\n",
       "  <matplotlib.lines.Line2D at 0x249ce5bde10>,\n",
       "  <matplotlib.lines.Line2D at 0x249ce5c77b8>,\n",
       "  <matplotlib.lines.Line2D at 0x249ce5d1a58>,\n",
       "  <matplotlib.lines.Line2D at 0x249ce5d1d68>,\n",
       "  <matplotlib.lines.Line2D at 0x249ce5dddd8>,\n",
       "  <matplotlib.lines.Line2D at 0x249ce5ddfd0>],\n",
       " 'caps': [<matplotlib.lines.Line2D at 0x249ce42e358>,\n",
       "  <matplotlib.lines.Line2D at 0x249ce42e6a0>,\n",
       "  <matplotlib.lines.Line2D at 0x249ce439ac8>,\n",
       "  <matplotlib.lines.Line2D at 0x249ce439e10>,\n",
       "  <matplotlib.lines.Line2D at 0x249ce442f98>,\n",
       "  <matplotlib.lines.Line2D at 0x249ce44c588>,\n",
       "  <matplotlib.lines.Line2D at 0x249ce458978>,\n",
       "  <matplotlib.lines.Line2D at 0x249ce458cc0>,\n",
       "  <matplotlib.lines.Line2D at 0x249ce461e48>,\n",
       "  <matplotlib.lines.Line2D at 0x249ce469438>,\n",
       "  <matplotlib.lines.Line2D at 0x249ce475828>,\n",
       "  <matplotlib.lines.Line2D at 0x249ce475b70>,\n",
       "  <matplotlib.lines.Line2D at 0x249ce47ff60>,\n",
       "  <matplotlib.lines.Line2D at 0x249ce4882e8>,\n",
       "  <matplotlib.lines.Line2D at 0x249ce4956d8>,\n",
       "  <matplotlib.lines.Line2D at 0x249ce495a20>,\n",
       "  <matplotlib.lines.Line2D at 0x249ce49ee10>,\n",
       "  <matplotlib.lines.Line2D at 0x249ce49eef0>,\n",
       "  <matplotlib.lines.Line2D at 0x249ce4b4588>,\n",
       "  <matplotlib.lines.Line2D at 0x249ce4b48d0>,\n",
       "  <matplotlib.lines.Line2D at 0x249ce4bdcc0>,\n",
       "  <matplotlib.lines.Line2D at 0x249ce4bdda0>,\n",
       "  <matplotlib.lines.Line2D at 0x249ce4d2438>,\n",
       "  <matplotlib.lines.Line2D at 0x249ce4d2780>,\n",
       "  <matplotlib.lines.Line2D at 0x249ce4dbb70>,\n",
       "  <matplotlib.lines.Line2D at 0x249ce4dbeb8>,\n",
       "  <matplotlib.lines.Line2D at 0x249ce4f12e8>,\n",
       "  <matplotlib.lines.Line2D at 0x249ce4f1630>,\n",
       "  <matplotlib.lines.Line2D at 0x249ce4fb9e8>,\n",
       "  <matplotlib.lines.Line2D at 0x249ce4fbcf8>,\n",
       "  <matplotlib.lines.Line2D at 0x249ce505f98>,\n",
       "  <matplotlib.lines.Line2D at 0x249ce505f60>,\n",
       "  <matplotlib.lines.Line2D at 0x249ce50fbe0>,\n",
       "  <matplotlib.lines.Line2D at 0x249ce4a5898>,\n",
       "  <matplotlib.lines.Line2D at 0x249ce526b38>,\n",
       "  <matplotlib.lines.Line2D at 0x249ce526e48>,\n",
       "  <matplotlib.lines.Line2D at 0x249ce52feb8>,\n",
       "  <matplotlib.lines.Line2D at 0x249ce52f780>,\n",
       "  <matplotlib.lines.Line2D at 0x249ce5446d8>,\n",
       "  <matplotlib.lines.Line2D at 0x249ce5449e8>,\n",
       "  <matplotlib.lines.Line2D at 0x249ce551c88>,\n",
       "  <matplotlib.lines.Line2D at 0x249ce551f98>,\n",
       "  <matplotlib.lines.Line2D at 0x249ce55aef0>,\n",
       "  <matplotlib.lines.Line2D at 0x249ce55a8d0>,\n",
       "  <matplotlib.lines.Line2D at 0x249ce570828>,\n",
       "  <matplotlib.lines.Line2D at 0x249ce570b38>,\n",
       "  <matplotlib.lines.Line2D at 0x249ce57add8>,\n",
       "  <matplotlib.lines.Line2D at 0x249ce57aeb8>,\n",
       "  <matplotlib.lines.Line2D at 0x249ce587a20>,\n",
       "  <matplotlib.lines.Line2D at 0x249ce5906d8>,\n",
       "  <matplotlib.lines.Line2D at 0x249ce59b978>,\n",
       "  <matplotlib.lines.Line2D at 0x249ce59bc88>,\n",
       "  <matplotlib.lines.Line2D at 0x249ce5a7f28>,\n",
       "  <matplotlib.lines.Line2D at 0x249ce5a7ef0>,\n",
       "  <matplotlib.lines.Line2D at 0x249ce5b1b70>,\n",
       "  <matplotlib.lines.Line2D at 0x249ce5bd828>,\n",
       "  <matplotlib.lines.Line2D at 0x249ce5c7ac8>,\n",
       "  <matplotlib.lines.Line2D at 0x249ce5c7dd8>,\n",
       "  <matplotlib.lines.Line2D at 0x249ce5d1e48>,\n",
       "  <matplotlib.lines.Line2D at 0x249ce5d1710>,\n",
       "  <matplotlib.lines.Line2D at 0x249ce5e8668>,\n",
       "  <matplotlib.lines.Line2D at 0x249ce5e8978>],\n",
       " 'boxes': [<matplotlib.lines.Line2D at 0x249ce41a860>,\n",
       "  <matplotlib.lines.Line2D at 0x249ce42ecf8>,\n",
       "  <matplotlib.lines.Line2D at 0x249ce442828>,\n",
       "  <matplotlib.lines.Line2D at 0x249ce44cf60>,\n",
       "  <matplotlib.lines.Line2D at 0x249ce4616d8>,\n",
       "  <matplotlib.lines.Line2D at 0x249ce469e10>,\n",
       "  <matplotlib.lines.Line2D at 0x249ce47f588>,\n",
       "  <matplotlib.lines.Line2D at 0x249ce488cc0>,\n",
       "  <matplotlib.lines.Line2D at 0x249ce49e438>,\n",
       "  <matplotlib.lines.Line2D at 0x249ce4a9b70>,\n",
       "  <matplotlib.lines.Line2D at 0x249ce4bd2e8>,\n",
       "  <matplotlib.lines.Line2D at 0x249ce4c9a20>,\n",
       "  <matplotlib.lines.Line2D at 0x249ce4d2eb8>,\n",
       "  <matplotlib.lines.Line2D at 0x249ce4e58d0>,\n",
       "  <matplotlib.lines.Line2D at 0x249ce4f1d68>,\n",
       "  <matplotlib.lines.Line2D at 0x249ce505668>,\n",
       "  <matplotlib.lines.Line2D at 0x249ce50fc18>,\n",
       "  <matplotlib.lines.Line2D at 0x249ce4a5f60>,\n",
       "  <matplotlib.lines.Line2D at 0x249ce52f7b8>,\n",
       "  <matplotlib.lines.Line2D at 0x249ce539d68>,\n",
       "  <matplotlib.lines.Line2D at 0x249ce551358>,\n",
       "  <matplotlib.lines.Line2D at 0x249ce55a908>,\n",
       "  <matplotlib.lines.Line2D at 0x249ce567eb8>,\n",
       "  <matplotlib.lines.Line2D at 0x249ce57a4a8>,\n",
       "  <matplotlib.lines.Line2D at 0x249ce587a58>,\n",
       "  <matplotlib.lines.Line2D at 0x249ce590da0>,\n",
       "  <matplotlib.lines.Line2D at 0x249ce5a75f8>,\n",
       "  <matplotlib.lines.Line2D at 0x249ce5b1ba8>,\n",
       "  <matplotlib.lines.Line2D at 0x249ce5bdef0>,\n",
       "  <matplotlib.lines.Line2D at 0x249ce5d1748>,\n",
       "  <matplotlib.lines.Line2D at 0x249ce5ddcf8>],\n",
       " 'medians': [<matplotlib.lines.Line2D at 0x249ce42e9e8>,\n",
       "  <matplotlib.lines.Line2D at 0x249ce439ef0>,\n",
       "  <matplotlib.lines.Line2D at 0x249ce44c8d0>,\n",
       "  <matplotlib.lines.Line2D at 0x249ce458da0>,\n",
       "  <matplotlib.lines.Line2D at 0x249ce469780>,\n",
       "  <matplotlib.lines.Line2D at 0x249ce475eb8>,\n",
       "  <matplotlib.lines.Line2D at 0x249ce488630>,\n",
       "  <matplotlib.lines.Line2D at 0x249ce495d68>,\n",
       "  <matplotlib.lines.Line2D at 0x249ce4a94e0>,\n",
       "  <matplotlib.lines.Line2D at 0x249ce4b4c18>,\n",
       "  <matplotlib.lines.Line2D at 0x249ce4c9390>,\n",
       "  <matplotlib.lines.Line2D at 0x249ce4d2ac8>,\n",
       "  <matplotlib.lines.Line2D at 0x249ce4dbf98>,\n",
       "  <matplotlib.lines.Line2D at 0x249ce4f1978>,\n",
       "  <matplotlib.lines.Line2D at 0x249ce4fbdd8>,\n",
       "  <matplotlib.lines.Line2D at 0x249ce505630>,\n",
       "  <matplotlib.lines.Line2D at 0x249ce4a5ba8>,\n",
       "  <matplotlib.lines.Line2D at 0x249ce526f28>,\n",
       "  <matplotlib.lines.Line2D at 0x249ce539748>,\n",
       "  <matplotlib.lines.Line2D at 0x249ce544cf8>,\n",
       "  <matplotlib.lines.Line2D at 0x249ce551f60>,\n",
       "  <matplotlib.lines.Line2D at 0x249ce567898>,\n",
       "  <matplotlib.lines.Line2D at 0x249ce570e48>,\n",
       "  <matplotlib.lines.Line2D at 0x249ce57a470>,\n",
       "  <matplotlib.lines.Line2D at 0x249ce5909e8>,\n",
       "  <matplotlib.lines.Line2D at 0x249ce59bf98>,\n",
       "  <matplotlib.lines.Line2D at 0x249ce5a75c0>,\n",
       "  <matplotlib.lines.Line2D at 0x249ce5bdb38>,\n",
       "  <matplotlib.lines.Line2D at 0x249ce5c7eb8>,\n",
       "  <matplotlib.lines.Line2D at 0x249ce5dd6d8>,\n",
       "  <matplotlib.lines.Line2D at 0x249ce5e8c88>],\n",
       " 'fliers': [<matplotlib.lines.Line2D at 0x249ce3e9160>,\n",
       "  <matplotlib.lines.Line2D at 0x249ce4424e0>,\n",
       "  <matplotlib.lines.Line2D at 0x249ce44cc18>,\n",
       "  <matplotlib.lines.Line2D at 0x249ce461390>,\n",
       "  <matplotlib.lines.Line2D at 0x249ce469ac8>,\n",
       "  <matplotlib.lines.Line2D at 0x249ce475f98>,\n",
       "  <matplotlib.lines.Line2D at 0x249ce488978>,\n",
       "  <matplotlib.lines.Line2D at 0x249ce495e48>,\n",
       "  <matplotlib.lines.Line2D at 0x249ce4a9828>,\n",
       "  <matplotlib.lines.Line2D at 0x249ce4b4f60>,\n",
       "  <matplotlib.lines.Line2D at 0x249ce4c96d8>,\n",
       "  <matplotlib.lines.Line2D at 0x249ce4d2e10>,\n",
       "  <matplotlib.lines.Line2D at 0x249ce4e5588>,\n",
       "  <matplotlib.lines.Line2D at 0x249ce4f1cc0>,\n",
       "  <matplotlib.lines.Line2D at 0x249ce4fbfd0>,\n",
       "  <matplotlib.lines.Line2D at 0x249ce50f908>,\n",
       "  <matplotlib.lines.Line2D at 0x249ce4a5eb8>,\n",
       "  <matplotlib.lines.Line2D at 0x249ce5261d0>,\n",
       "  <matplotlib.lines.Line2D at 0x249ce539a58>,\n",
       "  <matplotlib.lines.Line2D at 0x249ce544dd8>,\n",
       "  <matplotlib.lines.Line2D at 0x249ce551320>,\n",
       "  <matplotlib.lines.Line2D at 0x249ce567ba8>,\n",
       "  <matplotlib.lines.Line2D at 0x249ce570f28>,\n",
       "  <matplotlib.lines.Line2D at 0x249ce587748>,\n",
       "  <matplotlib.lines.Line2D at 0x249ce590cf8>,\n",
       "  <matplotlib.lines.Line2D at 0x249ce59bf60>,\n",
       "  <matplotlib.lines.Line2D at 0x249ce5b1898>,\n",
       "  <matplotlib.lines.Line2D at 0x249ce5bde48>,\n",
       "  <matplotlib.lines.Line2D at 0x249ce5c7160>,\n",
       "  <matplotlib.lines.Line2D at 0x249ce5dd9e8>,\n",
       "  <matplotlib.lines.Line2D at 0x249ce5e8f98>],\n",
       " 'means': []}"
      ]
     },
     "execution_count": 4,
     "metadata": {},
     "output_type": "execute_result"
    },
    {
     "data": {
      "image/png": "[encoded data removed]",
      "text/plain": [
       "<Figure size 432x288 with 1 Axes>"
      ]
     },
     "metadata": {
      "needs_background": "light"
     },
     "output_type": "display_data"
    }
   ],
   "source": [
    "# colorir\n",
    "# https://matplotlib.org/gallery/statistics/boxplot_demo.html\n",
    "\n",
    "plt.boxplot(base)"
   ]
  },
  {
   "cell_type": "code",
   "execution_count": 5,
   "metadata": {},
   "outputs": [
    {
     "data": {
      "text/plain": [
       "{'whiskers': [<matplotlib.lines.Line2D at 0x249ce701128>,\n",
       "  <matplotlib.lines.Line2D at 0x249ce7014e0>],\n",
       " 'caps': [<matplotlib.lines.Line2D at 0x249ce701828>,\n",
       "  <matplotlib.lines.Line2D at 0x249ce701b70>],\n",
       " 'boxes': [<matplotlib.lines.Line2D at 0x249ce7010f0>],\n",
       " 'medians': [<matplotlib.lines.Line2D at 0x249ce701f98>],\n",
       " 'fliers': [<matplotlib.lines.Line2D at 0x249ce70c240>],\n",
       " 'means': []}"
      ]
     },
     "execution_count": 5,
     "metadata": {},
     "output_type": "execute_result"
    },
    {
     "data": {
      "image/png": "[encoded data removed]",
      "text/plain": [
       "<Figure size 432x288 with 1 Axes>"
      ]
     },
     "metadata": {
      "needs_background": "light"
     },
     "output_type": "display_data"
    }
   ],
   "source": [
    "plt.boxplot(base.Volume, vert = False)\n",
    "plt.boxplot(base.Girth, vert = False)\n",
    "plt.boxplot(base.Height, vert = False)"
   ]
  }
 ],
 "metadata": {
  "kernelspec": {
   "display_name": "Python 3",
   "language": "python",
   "name": "python3"
  },
  "language_info": {
   "codemirror_mode": {
    "name": "ipython",
    "version": 3
   },
   "file_extension": ".py",
   "mimetype": "text/x-python",
   "name": "python",
   "nbconvert_exporter": "python",
   "pygments_lexer": "ipython3",
   "version": "3.7.3"
  }
 },
 "nbformat": 4,
 "nbformat_minor": 2
}
